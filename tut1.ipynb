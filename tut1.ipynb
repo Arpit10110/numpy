{
 "cells": [
  {
   "cell_type": "code",
   "execution_count": 1,
   "id": "0ba8e672-8e63-414c-b211-8e0b856f0e94",
   "metadata": {},
   "outputs": [],
   "source": [
    "import numpy as np"
   ]
  },
  {
   "cell_type": "code",
   "execution_count": 8,
   "id": "addc5372-6939-4daf-b3d6-f27810edc202",
   "metadata": {},
   "outputs": [],
   "source": [
    "#here we are starting the numpy"
   ]
  },
  {
   "cell_type": "code",
   "execution_count": 18,
   "id": "12969ad0-2daf-4d2f-a30e-54983515ba9f",
   "metadata": {
    "panel-layout": {
     "height": 27.136363983154297,
     "visible": true,
     "width": 100
    }
   },
   "outputs": [
    {
     "data": {
      "text/plain": [
       "array([1, 2, 3, 4, 5])"
      ]
     },
     "execution_count": 18,
     "metadata": {},
     "output_type": "execute_result"
    }
   ],
   "source": [
    "# Creating a array\n",
    "a = np.array([1,2,3,4,5])\n",
    "a"
   ]
  },
  {
   "cell_type": "code",
   "execution_count": 21,
   "id": "6cf9dd48-0a5e-4f61-878b-8cd240a1121a",
   "metadata": {
    "panel-layout": {
     "height": 0,
     "visible": true,
     "width": 100
    }
   },
   "outputs": [
    {
     "name": "stdout",
     "output_type": "stream",
     "text": [
      "<class 'numpy.ndarray'>\n"
     ]
    }
   ],
   "source": [
    "print(type(a))"
   ]
  },
  {
   "cell_type": "code",
   "execution_count": 23,
   "id": "5db57910-bb6f-40ed-97e4-0f6c0b434218",
   "metadata": {
    "panel-layout": {
     "height": 0,
     "visible": true,
     "width": 100
    }
   },
   "outputs": [
    {
     "name": "stdout",
     "output_type": "stream",
     "text": [
      "[[1, 2, 3], [4, 5, 6], [7, 8, 9]]\n"
     ]
    }
   ],
   "source": [
    "# let create a 2D Array\n",
    "l=[[1,2,3],[4,5,6],[7,8,9]]\n",
    "print(l)"
   ]
  },
  {
   "cell_type": "code",
   "execution_count": 24,
   "id": "936554ec-a881-44c9-9755-45c19a177299",
   "metadata": {},
   "outputs": [],
   "source": [
    "arr2 = np.array(l)"
   ]
  },
  {
   "cell_type": "code",
   "execution_count": 25,
   "id": "e695352e-aa5e-4e9a-9f2d-f45dbf8dd391",
   "metadata": {
    "panel-layout": {
     "height": 61.409095764160156,
     "visible": true,
     "width": 100
    }
   },
   "outputs": [
    {
     "data": {
      "text/plain": [
       "array([[1, 2, 3],\n",
       "       [4, 5, 6],\n",
       "       [7, 8, 9]])"
      ]
     },
     "execution_count": 25,
     "metadata": {},
     "output_type": "execute_result"
    }
   ],
   "source": [
    "arr2"
   ]
  },
  {
   "cell_type": "code",
   "execution_count": 27,
   "id": "c60872bc-899d-48ba-aafd-d31cbff27050",
   "metadata": {
    "panel-layout": {
     "height": 27.136363983154297,
     "visible": true,
     "width": 100
    }
   },
   "outputs": [
    {
     "data": {
      "text/plain": [
       "array([ 1,  2,  3,  4,  5,  6,  7,  8,  9, 10])"
      ]
     },
     "execution_count": 27,
     "metadata": {},
     "output_type": "execute_result"
    }
   ],
   "source": [
    "# To print the range \n",
    "np.arange(1,11) # this will give a range of array from 1-10 "
   ]
  },
  {
   "cell_type": "code",
   "execution_count": 28,
   "id": "8f30d299-b2f7-4039-99de-8ef94ff3383b",
   "metadata": {
    "panel-layout": {
     "height": 27.136363983154297,
     "visible": true,
     "width": 100
    }
   },
   "outputs": [
    {
     "data": {
      "text/plain": [
       "array([10,  3,  1,  8,  3])"
      ]
     },
     "execution_count": 28,
     "metadata": {},
     "output_type": "execute_result"
    }
   ],
   "source": [
    "#Random fuction\n",
    "arr = np.random.randint(1,11,5)\n",
    "arr"
   ]
  },
  {
   "cell_type": "markdown",
   "id": "92b52962-7ab8-4a9e-9ffe-550cef27ae2b",
   "metadata": {
    "panel-layout": {
     "height": 51.1363639831543,
     "visible": true,
     "width": 100
    }
   },
   "source": [
    "Array Attributes"
   ]
  },
  {
   "cell_type": "code",
   "execution_count": 29,
   "id": "add4d352-1c54-49b7-8098-71a00f813b26",
   "metadata": {
    "panel-layout": {
     "height": 61.409095764160156,
     "visible": true,
     "width": 100
    }
   },
   "outputs": [
    {
     "data": {
      "text/plain": [
       "array([[1, 2, 3],\n",
       "       [4, 5, 6],\n",
       "       [7, 8, 9]])"
      ]
     },
     "execution_count": 29,
     "metadata": {},
     "output_type": "execute_result"
    }
   ],
   "source": [
    "arr = np.array([[1,2,3],[4,5,6],[7,8,9]])\n",
    "arr"
   ]
  },
  {
   "cell_type": "code",
   "execution_count": 30,
   "id": "457565bf-a8fc-4cc4-a262-929a7e4856f3",
   "metadata": {
    "panel-layout": {
     "height": 27.136363983154297,
     "visible": true,
     "width": 100
    }
   },
   "outputs": [
    {
     "data": {
      "text/plain": [
       "9"
      ]
     },
     "execution_count": 30,
     "metadata": {},
     "output_type": "execute_result"
    }
   ],
   "source": [
    "arr.size"
   ]
  },
  {
   "cell_type": "code",
   "execution_count": 31,
   "id": "f3741714-b8a2-4a1d-8785-70d51fbb49e6",
   "metadata": {
    "panel-layout": {
     "height": 27.136363983154297,
     "visible": true,
     "width": 100
    }
   },
   "outputs": [
    {
     "data": {
      "text/plain": [
       "(3, 3)"
      ]
     },
     "execution_count": 31,
     "metadata": {},
     "output_type": "execute_result"
    }
   ],
   "source": [
    "arr.shape"
   ]
  },
  {
   "cell_type": "code",
   "execution_count": 33,
   "id": "66c2e4f9-3301-4403-ae04-fc448b46960f",
   "metadata": {
    "panel-layout": {
     "height": 27.136363983154297,
     "visible": true,
     "width": 100
    }
   },
   "outputs": [
    {
     "data": {
      "text/plain": [
       "dtype('int32')"
      ]
     },
     "execution_count": 33,
     "metadata": {},
     "output_type": "execute_result"
    }
   ],
   "source": [
    "arr.dtype"
   ]
  },
  {
   "cell_type": "markdown",
   "id": "daae1977-052f-4e66-9112-7db5b74506f0",
   "metadata": {
    "panel-layout": {
     "height": 51.1363639831543,
     "visible": true,
     "width": 100
    }
   },
   "source": [
    "Array Methods"
   ]
  },
  {
   "cell_type": "code",
   "execution_count": 34,
   "id": "95f069a6-b75d-457a-b565-01107b2779fd",
   "metadata": {
    "panel-layout": {
     "height": 27.136363983154297,
     "visible": true,
     "width": 100
    }
   },
   "outputs": [
    {
     "data": {
      "text/plain": [
       "1"
      ]
     },
     "execution_count": 34,
     "metadata": {},
     "output_type": "execute_result"
    }
   ],
   "source": [
    "arr.min()"
   ]
  },
  {
   "cell_type": "code",
   "execution_count": 35,
   "id": "ce745e69-76ff-48d9-ab2e-3580030da130",
   "metadata": {
    "panel-layout": {
     "height": 27.136363983154297,
     "visible": true,
     "width": 100
    }
   },
   "outputs": [
    {
     "data": {
      "text/plain": [
       "9"
      ]
     },
     "execution_count": 35,
     "metadata": {},
     "output_type": "execute_result"
    }
   ],
   "source": [
    "arr.max()"
   ]
  },
  {
   "cell_type": "code",
   "execution_count": 36,
   "id": "0a93340d-02dc-44f6-91cf-675dd6d16716",
   "metadata": {
    "panel-layout": {
     "height": 27.136363983154297,
     "visible": true,
     "width": 100
    }
   },
   "outputs": [
    {
     "data": {
      "text/plain": [
       "5.0"
      ]
     },
     "execution_count": 36,
     "metadata": {},
     "output_type": "execute_result"
    }
   ],
   "source": [
    "arr.mean()"
   ]
  },
  {
   "cell_type": "code",
   "execution_count": 37,
   "id": "c2dcccea-c7e3-4d54-ab91-116e963d5e67",
   "metadata": {
    "panel-layout": {
     "height": 44.272727966308594,
     "visible": true,
     "width": 100
    }
   },
   "outputs": [
    {
     "data": {
      "text/plain": [
       "array([ 1,  2,  3,  4,  5,  6,  7,  8,  9, 10, 11, 12, 13, 14, 15, 16, 17,\n",
       "       18, 19, 20, 21, 22, 23, 24, 25, 26, 27, 28, 29, 30])"
      ]
     },
     "execution_count": 37,
     "metadata": {},
     "output_type": "execute_result"
    }
   ],
   "source": [
    "arr = np.arange(1,31)\n",
    "arr"
   ]
  },
  {
   "cell_type": "code",
   "execution_count": 39,
   "id": "3b599be3-45df-4d8e-878d-ecd3350d53fd",
   "metadata": {
    "panel-layout": {
     "height": 112.81818389892578,
     "visible": true,
     "width": 100
    }
   },
   "outputs": [
    {
     "data": {
      "text/plain": [
       "array([[ 1,  2,  3,  4,  5],\n",
       "       [ 6,  7,  8,  9, 10],\n",
       "       [11, 12, 13, 14, 15],\n",
       "       [16, 17, 18, 19, 20],\n",
       "       [21, 22, 23, 24, 25],\n",
       "       [26, 27, 28, 29, 30]])"
      ]
     },
     "execution_count": 39,
     "metadata": {},
     "output_type": "execute_result"
    }
   ],
   "source": [
    "arr = arr.reshape(6,5)\n",
    "arr"
   ]
  },
  {
   "cell_type": "code",
   "execution_count": 41,
   "id": "9a582d95-353a-4da3-8ba3-197ed7dafeab",
   "metadata": {
    "panel-layout": {
     "height": 27.136363983154297,
     "visible": true,
     "width": 100
    }
   },
   "outputs": [
    {
     "data": {
      "text/plain": [
       "array([1, 2, 3, 4, 5, 6, 7, 8, 9])"
      ]
     },
     "execution_count": 41,
     "metadata": {},
     "output_type": "execute_result"
    }
   ],
   "source": [
    "arr = np.arange(1,10)\n",
    "arr"
   ]
  },
  {
   "cell_type": "code",
   "execution_count": 43,
   "id": "c8a17dbd-5a2e-4909-9dfd-cf2d9fcda2d2",
   "metadata": {
    "panel-layout": {
     "height": 27.136363983154297,
     "visible": true,
     "width": 100
    }
   },
   "outputs": [
    {
     "data": {
      "text/plain": [
       "4"
      ]
     },
     "execution_count": 43,
     "metadata": {},
     "output_type": "execute_result"
    }
   ],
   "source": [
    "arr[3]"
   ]
  },
  {
   "cell_type": "code",
   "execution_count": 45,
   "id": "fab61ad1-0445-4a7c-bb45-93441abb2e36",
   "metadata": {
    "panel-layout": {
     "height": 27.136363983154297,
     "visible": true,
     "width": 100
    }
   },
   "outputs": [
    {
     "data": {
      "text/plain": [
       "array([2, 3, 4, 5])"
      ]
     },
     "execution_count": 45,
     "metadata": {},
     "output_type": "execute_result"
    }
   ],
   "source": [
    "arr[1:5]"
   ]
  },
  {
   "cell_type": "code",
   "execution_count": 50,
   "id": "8786510a-326e-4042-9f88-09f0a74ab43d",
   "metadata": {
    "panel-layout": {
     "height": 61.409095764160156,
     "visible": true,
     "width": 100
    }
   },
   "outputs": [
    {
     "data": {
      "text/plain": [
       "array([[1, 2, 3],\n",
       "       [4, 5, 6],\n",
       "       [7, 8, 9]])"
      ]
     },
     "execution_count": 50,
     "metadata": {},
     "output_type": "execute_result"
    }
   ],
   "source": [
    "arr = arr.reshape(3,3)\n",
    "arr"
   ]
  },
  {
   "cell_type": "code",
   "execution_count": 51,
   "id": "f298991f-d591-4a89-945d-679d81b80cb1",
   "metadata": {
    "panel-layout": {
     "height": 27.136363983154297,
     "visible": true,
     "width": 100
    },
    "scrolled": true
   },
   "outputs": [
    {
     "data": {
      "text/plain": [
       "array([1, 2, 3])"
      ]
     },
     "execution_count": 51,
     "metadata": {},
     "output_type": "execute_result"
    }
   ],
   "source": [
    "arr[0]"
   ]
  },
  {
   "cell_type": "code",
   "execution_count": 52,
   "id": "62abc12c-a108-4019-99d4-a2fdfe726bd9",
   "metadata": {
    "panel-layout": {
     "height": 27.136363983154297,
     "visible": true,
     "width": 100
    }
   },
   "outputs": [
    {
     "data": {
      "text/plain": [
       "2"
      ]
     },
     "execution_count": 52,
     "metadata": {},
     "output_type": "execute_result"
    }
   ],
   "source": [
    "arr[0][1]"
   ]
  },
  {
   "cell_type": "code",
   "execution_count": 55,
   "id": "e018336e-449a-402a-ae0b-7e0cbec3c839",
   "metadata": {
    "panel-layout": {
     "height": 112.81818389892578,
     "visible": true,
     "width": 100
    }
   },
   "outputs": [
    {
     "data": {
      "text/plain": [
       "array([[ 1,  2,  3,  4,  5],\n",
       "       [ 6,  7,  8,  9, 10],\n",
       "       [11, 12, 13, 14, 15],\n",
       "       [16, 17, 18, 19, 20],\n",
       "       [21, 22, 23, 24, 25],\n",
       "       [26, 27, 28, 29, 30]])"
      ]
     },
     "execution_count": 55,
     "metadata": {},
     "output_type": "execute_result"
    }
   ],
   "source": [
    "arr = np.arange(1,31)\n",
    "arr = arr.reshape(6,5)\n",
    "arr"
   ]
  },
  {
   "cell_type": "code",
   "execution_count": 57,
   "id": "b4d92134-e960-4c1c-a04f-d37a14e725ca",
   "metadata": {
    "panel-layout": {
     "height": 61.409095764160156,
     "visible": true,
     "width": 100
    }
   },
   "outputs": [
    {
     "data": {
      "text/plain": [
       "array([[19, 20],\n",
       "       [24, 25],\n",
       "       [29, 30]])"
      ]
     },
     "execution_count": 57,
     "metadata": {},
     "output_type": "execute_result"
    }
   ],
   "source": [
    "arr[3:6,3:5]"
   ]
  },
  {
   "cell_type": "code",
   "execution_count": 58,
   "id": "cce6ce89-621a-46da-b974-4d93232c9f70",
   "metadata": {
    "panel-layout": {
     "height": 27.136363983154297,
     "visible": true,
     "width": 100
    }
   },
   "outputs": [
    {
     "data": {
      "text/plain": [
       "array([ 3,  8, 13, 18, 23, 28])"
      ]
     },
     "execution_count": 58,
     "metadata": {},
     "output_type": "execute_result"
    }
   ],
   "source": [
    "arr[:,2]"
   ]
  },
  {
   "cell_type": "markdown",
   "id": "35bb96d0-48b0-47fb-86d6-5c5e6827d4c5",
   "metadata": {},
   "source": [
    "Array Operations"
   ]
  },
  {
   "cell_type": "code",
   "execution_count": 4,
   "id": "97bbda9f-b497-447a-9c63-36ec3271c6f9",
   "metadata": {},
   "outputs": [
    {
     "data": {
      "text/plain": [
       "array([ 7,  9, 11, 13, 15])"
      ]
     },
     "execution_count": 4,
     "metadata": {},
     "output_type": "execute_result"
    }
   ],
   "source": [
    "arr1 = np.array([1,2,3,4,5])\n",
    "arr2 = np.array([6,7,8,9,10])\n",
    "arr=arr1+arr2\n",
    "arr"
   ]
  },
  {
   "cell_type": "code",
   "execution_count": 12,
   "id": "a4ceb055-72b9-40ea-b227-05af29662c12",
   "metadata": {},
   "outputs": [
    {
     "data": {
      "text/plain": [
       "array([      1,     128,    6561,  262144, 9765625])"
      ]
     },
     "execution_count": 12,
     "metadata": {},
     "output_type": "execute_result"
    }
   ],
   "source": [
    "arr = arr1 ** arr2\n",
    "arr"
   ]
  },
  {
   "cell_type": "code",
   "execution_count": 13,
   "id": "866aa2eb-9945-4ac5-aa07-92631e885358",
   "metadata": {},
   "outputs": [
    {
     "data": {
      "text/plain": [
       "array([-5, -5, -5, -5, -5])"
      ]
     },
     "execution_count": 13,
     "metadata": {},
     "output_type": "execute_result"
    }
   ],
   "source": [
    "arr = arr1-arr2\n",
    "arr"
   ]
  },
  {
   "cell_type": "code",
   "execution_count": 14,
   "id": "ee6eaeab-a827-4911-bfe0-6a0406bf8551",
   "metadata": {},
   "outputs": [
    {
     "data": {
      "text/plain": [
       "array([0.16666667, 0.28571429, 0.375     , 0.44444444, 0.5       ])"
      ]
     },
     "execution_count": 14,
     "metadata": {},
     "output_type": "execute_result"
    }
   ],
   "source": [
    "arr = arr1 / arr2\n",
    "arr"
   ]
  },
  {
   "cell_type": "code",
   "execution_count": 15,
   "id": "15c4e13e-8436-47fa-8dba-ac23c6446da1",
   "metadata": {},
   "outputs": [
    {
     "data": {
      "text/plain": [
       "array([0, 0, 0, 0, 0])"
      ]
     },
     "execution_count": 15,
     "metadata": {},
     "output_type": "execute_result"
    }
   ],
   "source": [
    "arr = arr1 // arr2\n",
    "arr"
   ]
  },
  {
   "cell_type": "code",
   "execution_count": 17,
   "id": "a7d5be0f-3fe5-4c4b-adcb-e2dfa9d7355e",
   "metadata": {},
   "outputs": [
    {
     "data": {
      "text/plain": [
       "array([11, 12, 13, 14, 15])"
      ]
     },
     "execution_count": 17,
     "metadata": {},
     "output_type": "execute_result"
    }
   ],
   "source": [
    "brodarr = np.array([1,2,3,4,5])\n",
    "arr = brodarr +10\n",
    "arr"
   ]
  },
  {
   "cell_type": "code",
   "execution_count": 18,
   "id": "54060f32-5147-4525-8251-acf6d888c890",
   "metadata": {},
   "outputs": [
    {
     "data": {
      "text/plain": [
       "array([[1, 2],\n",
       "       [3, 4]])"
      ]
     },
     "execution_count": 18,
     "metadata": {},
     "output_type": "execute_result"
    }
   ],
   "source": [
    "arr1 = np.array([[1,2],[3,4]])\n",
    "arr2 = np.array([[5,6],[7,8]])\n",
    "arr1"
   ]
  },
  {
   "cell_type": "code",
   "execution_count": 19,
   "id": "616c292b-9696-4368-9d69-049ef3430d19",
   "metadata": {},
   "outputs": [
    {
     "data": {
      "text/plain": [
       "array([[5, 6],\n",
       "       [7, 8]])"
      ]
     },
     "execution_count": 19,
     "metadata": {},
     "output_type": "execute_result"
    }
   ],
   "source": [
    "arr2"
   ]
  },
  {
   "cell_type": "code",
   "execution_count": 22,
   "id": "076570f9-70a1-4275-90bf-008210e1cd2e",
   "metadata": {},
   "outputs": [],
   "source": [
    "# Matrix Maltiplication"
   ]
  },
  {
   "cell_type": "code",
   "execution_count": 23,
   "id": "5b1b57a2-ab80-418e-88c1-ef156e29b7a5",
   "metadata": {},
   "outputs": [
    {
     "data": {
      "text/plain": [
       "array([[19, 22],\n",
       "       [43, 50]])"
      ]
     },
     "execution_count": 23,
     "metadata": {},
     "output_type": "execute_result"
    }
   ],
   "source": [
    "arr=arr1 @ arr2\n",
    "arr"
   ]
  },
  {
   "cell_type": "code",
   "execution_count": 24,
   "id": "f8b3c5e1-97e0-4254-975c-872691b3d09a",
   "metadata": {},
   "outputs": [],
   "source": [
    "# Transpose of the matrix"
   ]
  },
  {
   "cell_type": "code",
   "execution_count": 25,
   "id": "f1e6135c-e9ee-44db-92ca-4a4a517343d9",
   "metadata": {},
   "outputs": [
    {
     "data": {
      "text/plain": [
       "array([[1, 3],\n",
       "       [2, 4]])"
      ]
     },
     "execution_count": 25,
     "metadata": {},
     "output_type": "execute_result"
    }
   ],
   "source": [
    "arr1.T"
   ]
  },
  {
   "cell_type": "markdown",
   "id": "bc39c901-414e-4fa4-b6c8-b856f905b08a",
   "metadata": {},
   "source": [
    "Exercise"
   ]
  },
  {
   "cell_type": "code",
   "execution_count": 4,
   "id": "7c450b60-47c9-45e5-9551-a8ba78431df1",
   "metadata": {},
   "outputs": [],
   "source": [
    "data = np.array([\n",
    "    [18, 85, 78],   # Student 1\n",
    "    [19, 92, 88],   # Student 2\n",
    "    [17, 76, 95],   # Student 3\n",
    "    [18, 65, 70],   # Student 4\n",
    "    [20, 90, 85]    # Student 5\n",
    "])"
   ]
  },
  {
   "cell_type": "code",
   "execution_count": 5,
   "id": "7c743b9e-3e69-40bf-8095-89c268ca6a5b",
   "metadata": {},
   "outputs": [
    {
     "data": {
      "text/plain": [
       "array([[18, 85, 78],\n",
       "       [19, 92, 88],\n",
       "       [17, 76, 95],\n",
       "       [18, 65, 70],\n",
       "       [20, 90, 85]])"
      ]
     },
     "execution_count": 5,
     "metadata": {},
     "output_type": "execute_result"
    }
   ],
   "source": [
    "data"
   ]
  },
  {
   "cell_type": "code",
   "execution_count": 7,
   "id": "77a016cb-1011-4024-bf49-172af8e056ce",
   "metadata": {},
   "outputs": [
    {
     "data": {
      "text/plain": [
       "(5, 3)"
      ]
     },
     "execution_count": 7,
     "metadata": {},
     "output_type": "execute_result"
    }
   ],
   "source": [
    "## Shape of the matrix\n",
    "data.shape"
   ]
  },
  {
   "cell_type": "code",
   "execution_count": 10,
   "id": "35dd07b1-bd17-424b-8c8e-6912192888ac",
   "metadata": {},
   "outputs": [
    {
     "data": {
      "text/plain": [
       "array([ 92, 408, 416])"
      ]
     },
     "execution_count": 10,
     "metadata": {},
     "output_type": "execute_result"
    }
   ],
   "source": [
    "sum_age = np.sum(data, axis=0)\n",
    "sum_age"
   ]
  },
  {
   "cell_type": "code",
   "execution_count": 13,
   "id": "e23ae138-245a-4448-b17f-471aa7d5376d",
   "metadata": {},
   "outputs": [
    {
     "data": {
      "text/plain": [
       "18"
      ]
     },
     "execution_count": 13,
     "metadata": {},
     "output_type": "execute_result"
    }
   ],
   "source": [
    "avg_age = 92//5\n",
    "avg_age"
   ]
  },
  {
   "cell_type": "code",
   "execution_count": 14,
   "id": "a7c0c5ca-7352-4e2c-a0f4-e5402bc55708",
   "metadata": {},
   "outputs": [],
   "source": [
    "## we can also using mean "
   ]
  },
  {
   "cell_type": "code",
   "execution_count": 17,
   "id": "eed217a6-e878-41ff-99a8-cccc842f74e4",
   "metadata": {},
   "outputs": [
    {
     "data": {
      "text/plain": [
       "18.4"
      ]
     },
     "execution_count": 17,
     "metadata": {},
     "output_type": "execute_result"
    }
   ],
   "source": [
    "avg_age = np.mean(data[0:,0])\n",
    "avg_age"
   ]
  },
  {
   "cell_type": "code",
   "execution_count": 20,
   "id": "c4a919fa-7aa0-40ea-83c2-915f11e49c00",
   "metadata": {},
   "outputs": [
    {
     "data": {
      "text/plain": [
       "array([85, 92, 76, 65, 90])"
      ]
     },
     "execution_count": 20,
     "metadata": {},
     "output_type": "execute_result"
    }
   ],
   "source": [
    "#Extract Math marks of all students\n",
    "maths_marks=data[0:,1]\n",
    "maths_marks"
   ]
  },
  {
   "cell_type": "code",
   "execution_count": 22,
   "id": "46f51af2-dfbb-4d57-936c-c3c0130ab966",
   "metadata": {},
   "outputs": [
    {
     "data": {
      "text/plain": [
       "95"
      ]
     },
     "execution_count": 22,
     "metadata": {},
     "output_type": "execute_result"
    }
   ],
   "source": [
    "#Find the highest Science mark.\n",
    "highest_science_marks = np.max(data[0:,2])\n",
    "\n",
    "highest_science_marks"
   ]
  },
  {
   "cell_type": "code",
   "execution_count": 26,
   "id": "ccc524fe-5ae1-4e95-bfa5-ab79a7b05953",
   "metadata": {},
   "outputs": [
    {
     "name": "stdout",
     "output_type": "stream",
     "text": [
      "Student no 2 Scored more than 90\n",
      "Maths marks--> 92\n",
      "Student age--> 19\n",
      "Student no 5 Scored more than 90\n",
      "Maths marks--> 90\n",
      "Student age--> 20\n"
     ]
    }
   ],
   "source": [
    "#Get details of the student who scored more than 90 in Math.\n",
    "for i in range (0,5):\n",
    "    if data[i,1]>=90:\n",
    "        print(\"Student no\",i+1,\"Scored more than 90\")\n",
    "        print(\"Maths marks-->\",data[i,1])\n",
    "        print(\"Student age-->\",data[i,0])"
   ]
  },
  {
   "cell_type": "code",
   "execution_count": 30,
   "id": "4a50db30-1015-43cd-a180-b69a35d4993e",
   "metadata": {},
   "outputs": [],
   "source": [
    "#Increase Math marks of all students by 5.\n",
    "data[0:,1]+=5"
   ]
  },
  {
   "cell_type": "code",
   "execution_count": 31,
   "id": "31ee0c07-86b8-4e82-875f-184ecc2f531c",
   "metadata": {},
   "outputs": [
    {
     "data": {
      "text/plain": [
       "array([[18, 90, 78],\n",
       "       [19, 97, 88],\n",
       "       [17, 81, 95],\n",
       "       [18, 70, 70],\n",
       "       [20, 95, 85]])"
      ]
     },
     "execution_count": 31,
     "metadata": {},
     "output_type": "execute_result"
    }
   ],
   "source": [
    "data"
   ]
  },
  {
   "cell_type": "code",
   "execution_count": 44,
   "id": "435491d3-fa13-4613-a462-9055f9c90a0c",
   "metadata": {},
   "outputs": [
    {
     "data": {
      "text/plain": [
       "3"
      ]
     },
     "execution_count": 44,
     "metadata": {},
     "output_type": "execute_result"
    }
   ],
   "source": [
    "#Find how many students are younger than 19.\n",
    "number_of_student=data[data[:,0]<19]\n",
    "len(number_of_student)"
   ]
  },
  {
   "cell_type": "code",
   "execution_count": 45,
   "id": "2c06d79b-f81f-4efb-9a53-81f03087c0da",
   "metadata": {},
   "outputs": [
    {
     "data": {
      "text/plain": [
       "86.6"
      ]
     },
     "execution_count": 45,
     "metadata": {},
     "output_type": "execute_result"
    }
   ],
   "source": [
    "#Calculate the average marks in each subject (column-wise mean).\n",
    "avg_maths_marks = np.mean(data[:,1])\n",
    "avg_maths_marks"
   ]
  },
  {
   "cell_type": "code",
   "execution_count": 46,
   "id": "9182ae60-4ccc-444d-996f-74f3deeb5eac",
   "metadata": {},
   "outputs": [
    {
     "data": {
      "text/plain": [
       "83.2"
      ]
     },
     "execution_count": 46,
     "metadata": {},
     "output_type": "execute_result"
    }
   ],
   "source": [
    "avg_maths_science = np.mean(data[:,2])\n",
    "avg_maths_science"
   ]
  },
  {
   "cell_type": "code",
   "execution_count": 54,
   "id": "527f2a19-f78d-4e6b-9865-de13173dac80",
   "metadata": {},
   "outputs": [
    {
     "data": {
      "text/plain": [
       "array([[19, 97, 88],\n",
       "       [17, 81, 95],\n",
       "       [20, 95, 85]])"
      ]
     },
     "execution_count": 54,
     "metadata": {},
     "output_type": "execute_result"
    }
   ],
   "source": [
    "#Get data of students who scored at least 80 in both subjects.\n",
    "data[(data[:,1]>=80) & (data[:,2]>=80) ]"
   ]
  },
  {
   "cell_type": "code",
   "execution_count": null,
   "id": "e0123a38-5913-4612-9f16-05aa096a6e61",
   "metadata": {},
   "outputs": [],
   "source": []
  },
  {
   "cell_type": "code",
   "execution_count": null,
   "id": "b7fadb97-6228-477f-9ee9-6a6e5d457bcd",
   "metadata": {},
   "outputs": [],
   "source": []
  },
  {
   "cell_type": "code",
   "execution_count": null,
   "id": "58ce01a1-8436-438f-8c09-13d99784be35",
   "metadata": {},
   "outputs": [],
   "source": []
  },
  {
   "cell_type": "code",
   "execution_count": null,
   "id": "935cfc5f-1bf8-49c4-b684-88bfe7500d22",
   "metadata": {},
   "outputs": [],
   "source": []
  },
  {
   "cell_type": "code",
   "execution_count": null,
   "id": "470fffa8-b675-4f89-b057-5a430e1931a8",
   "metadata": {},
   "outputs": [],
   "source": []
  },
  {
   "cell_type": "code",
   "execution_count": null,
   "id": "ae7c6646-92ba-4df8-a3f0-598584959f59",
   "metadata": {},
   "outputs": [],
   "source": []
  },
  {
   "cell_type": "code",
   "execution_count": null,
   "id": "8bffc344-3516-4eda-8f9d-4a70a381875c",
   "metadata": {},
   "outputs": [],
   "source": []
  },
  {
   "cell_type": "code",
   "execution_count": null,
   "id": "4768736d-af47-461b-a897-c0e4ce8af722",
   "metadata": {},
   "outputs": [],
   "source": []
  },
  {
   "cell_type": "code",
   "execution_count": null,
   "id": "4db7a46e-3afe-40a0-a392-f251b2e70759",
   "metadata": {},
   "outputs": [],
   "source": []
  },
  {
   "cell_type": "code",
   "execution_count": null,
   "id": "7f41d873-4333-4d6e-9a9c-bd16a2938f53",
   "metadata": {},
   "outputs": [],
   "source": []
  },
  {
   "cell_type": "code",
   "execution_count": null,
   "id": "66aa4304-b5a3-4a44-8a62-5d68ced88639",
   "metadata": {},
   "outputs": [],
   "source": []
  },
  {
   "cell_type": "code",
   "execution_count": null,
   "id": "d4a6802f-dc55-4627-adb9-55487d515574",
   "metadata": {},
   "outputs": [],
   "source": []
  },
  {
   "cell_type": "code",
   "execution_count": null,
   "id": "48f52a1a-2e9f-45b4-b0b2-f5d1aef1e019",
   "metadata": {},
   "outputs": [],
   "source": []
  },
  {
   "cell_type": "code",
   "execution_count": null,
   "id": "caabb119-dbeb-4ff3-a18a-6625a69faf34",
   "metadata": {},
   "outputs": [],
   "source": []
  },
  {
   "cell_type": "code",
   "execution_count": null,
   "id": "d0babbbc-830b-4503-92a1-4c991701032d",
   "metadata": {},
   "outputs": [],
   "source": []
  },
  {
   "cell_type": "code",
   "execution_count": null,
   "id": "40421e49-2b1b-44d8-9538-cbfb6b249d67",
   "metadata": {},
   "outputs": [],
   "source": []
  },
  {
   "cell_type": "code",
   "execution_count": null,
   "id": "6bbe8454-927a-49ef-a55c-78a903fdcc73",
   "metadata": {},
   "outputs": [],
   "source": []
  },
  {
   "cell_type": "code",
   "execution_count": null,
   "id": "9d43c6ba-311b-40ae-b93c-4b333decfc2f",
   "metadata": {},
   "outputs": [],
   "source": []
  },
  {
   "cell_type": "code",
   "execution_count": null,
   "id": "7dd4755a-567a-4e5b-bd83-38a6a7eb4290",
   "metadata": {},
   "outputs": [],
   "source": []
  },
  {
   "cell_type": "code",
   "execution_count": null,
   "id": "e04e4f2a-f7c1-4ef7-a44c-eaa0575f7af9",
   "metadata": {},
   "outputs": [],
   "source": []
  },
  {
   "cell_type": "code",
   "execution_count": null,
   "id": "3b83da4d-29b6-4d0c-80de-3b344e368891",
   "metadata": {},
   "outputs": [],
   "source": []
  },
  {
   "cell_type": "code",
   "execution_count": null,
   "id": "89a9943a-d12a-4bfc-b973-aba8ac1ccd65",
   "metadata": {},
   "outputs": [],
   "source": []
  },
  {
   "cell_type": "code",
   "execution_count": null,
   "id": "4269fa62-e00c-4028-87e3-15c6b22260be",
   "metadata": {},
   "outputs": [],
   "source": []
  }
 ],
 "metadata": {
  "kernelspec": {
   "display_name": "Python [conda env:base] *",
   "language": "python",
   "name": "conda-base-py"
  },
  "language_info": {
   "codemirror_mode": {
    "name": "ipython",
    "version": 3
   },
   "file_extension": ".py",
   "mimetype": "text/x-python",
   "name": "python",
   "nbconvert_exporter": "python",
   "pygments_lexer": "ipython3",
   "version": "3.12.7"
  },
  "panel-cell-order": [
   "12969ad0-2daf-4d2f-a30e-54983515ba9f",
   "6cf9dd48-0a5e-4f61-878b-8cd240a1121a",
   "5db57910-bb6f-40ed-97e4-0f6c0b434218",
   "e695352e-aa5e-4e9a-9f2d-f45dbf8dd391",
   "c60872bc-899d-48ba-aafd-d31cbff27050",
   "8f30d299-b2f7-4039-99de-8ef94ff3383b",
   "92b52962-7ab8-4a9e-9ffe-550cef27ae2b",
   "add4d352-1c54-49b7-8098-71a00f813b26",
   "457565bf-a8fc-4cc4-a262-929a7e4856f3",
   "f3741714-b8a2-4a1d-8785-70d51fbb49e6",
   "66c2e4f9-3301-4403-ae04-fc448b46960f",
   "daae1977-052f-4e66-9112-7db5b74506f0",
   "95f069a6-b75d-457a-b565-01107b2779fd",
   "ce745e69-76ff-48d9-ab2e-3580030da130",
   "0a93340d-02dc-44f6-91cf-675dd6d16716",
   "c2dcccea-c7e3-4d54-ab91-116e963d5e67",
   "3b599be3-45df-4d8e-878d-ecd3350d53fd",
   "9a582d95-353a-4da3-8ba3-197ed7dafeab",
   "c8a17dbd-5a2e-4909-9dfd-cf2d9fcda2d2",
   "fab61ad1-0445-4a7c-bb45-93441abb2e36",
   "8786510a-326e-4042-9f88-09f0a74ab43d",
   "f298991f-d591-4a89-945d-679d81b80cb1",
   "62abc12c-a108-4019-99d4-a2fdfe726bd9",
   "e018336e-449a-402a-ae0b-7e0cbec3c839",
   "b4d92134-e960-4c1c-a04f-d37a14e725ca",
   "cce6ce89-621a-46da-b974-4d93232c9f70",
   "5b8e6dea-e66b-41c3-a448-d838834bff95",
   "80de1bdd-1f22-4fe0-ac49-c49562340c21"
  ]
 },
 "nbformat": 4,
 "nbformat_minor": 5
}
