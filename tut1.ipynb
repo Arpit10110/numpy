{
 "cells": [
  {
   "cell_type": "code",
   "execution_count": 7,
   "id": "0ba8e672-8e63-414c-b211-8e0b856f0e94",
   "metadata": {},
   "outputs": [],
   "source": [
    "import numpy as np"
   ]
  },
  {
   "cell_type": "code",
   "execution_count": 8,
   "id": "addc5372-6939-4daf-b3d6-f27810edc202",
   "metadata": {},
   "outputs": [],
   "source": [
    "#here we are starting the numpy"
   ]
  },
  {
   "cell_type": "code",
   "execution_count": 18,
   "id": "12969ad0-2daf-4d2f-a30e-54983515ba9f",
   "metadata": {
    "panel-layout": {
     "height": 27.136363983154297,
     "visible": true,
     "width": 100
    }
   },
   "outputs": [
    {
     "data": {
      "text/plain": [
       "array([1, 2, 3, 4, 5])"
      ]
     },
     "execution_count": 18,
     "metadata": {},
     "output_type": "execute_result"
    }
   ],
   "source": [
    "# Creating a array\n",
    "a = np.array([1,2,3,4,5])\n",
    "a"
   ]
  },
  {
   "cell_type": "code",
   "execution_count": 21,
   "id": "6cf9dd48-0a5e-4f61-878b-8cd240a1121a",
   "metadata": {
    "panel-layout": {
     "height": 0,
     "visible": true,
     "width": 100
    }
   },
   "outputs": [
    {
     "name": "stdout",
     "output_type": "stream",
     "text": [
      "<class 'numpy.ndarray'>\n"
     ]
    }
   ],
   "source": [
    "print(type(a))"
   ]
  },
  {
   "cell_type": "code",
   "execution_count": 23,
   "id": "5db57910-bb6f-40ed-97e4-0f6c0b434218",
   "metadata": {
    "panel-layout": {
     "height": 0,
     "visible": true,
     "width": 100
    }
   },
   "outputs": [
    {
     "name": "stdout",
     "output_type": "stream",
     "text": [
      "[[1, 2, 3], [4, 5, 6], [7, 8, 9]]\n"
     ]
    }
   ],
   "source": [
    "# let create a 2D Array\n",
    "l=[[1,2,3],[4,5,6],[7,8,9]]\n",
    "print(l)"
   ]
  },
  {
   "cell_type": "code",
   "execution_count": 24,
   "id": "936554ec-a881-44c9-9755-45c19a177299",
   "metadata": {},
   "outputs": [],
   "source": [
    "arr2 = np.array(l)"
   ]
  },
  {
   "cell_type": "code",
   "execution_count": 25,
   "id": "e695352e-aa5e-4e9a-9f2d-f45dbf8dd391",
   "metadata": {
    "panel-layout": {
     "height": 61.409095764160156,
     "visible": true,
     "width": 100
    }
   },
   "outputs": [
    {
     "data": {
      "text/plain": [
       "array([[1, 2, 3],\n",
       "       [4, 5, 6],\n",
       "       [7, 8, 9]])"
      ]
     },
     "execution_count": 25,
     "metadata": {},
     "output_type": "execute_result"
    }
   ],
   "source": [
    "arr2"
   ]
  },
  {
   "cell_type": "code",
   "execution_count": 27,
   "id": "c60872bc-899d-48ba-aafd-d31cbff27050",
   "metadata": {
    "panel-layout": {
     "height": 27.136363983154297,
     "visible": true,
     "width": 100
    }
   },
   "outputs": [
    {
     "data": {
      "text/plain": [
       "array([ 1,  2,  3,  4,  5,  6,  7,  8,  9, 10])"
      ]
     },
     "execution_count": 27,
     "metadata": {},
     "output_type": "execute_result"
    }
   ],
   "source": [
    "# To print the range \n",
    "np.arange(1,11) # this will give a range of array from 1-10 "
   ]
  },
  {
   "cell_type": "code",
   "execution_count": 28,
   "id": "8f30d299-b2f7-4039-99de-8ef94ff3383b",
   "metadata": {
    "panel-layout": {
     "height": 27.136363983154297,
     "visible": true,
     "width": 100
    }
   },
   "outputs": [
    {
     "data": {
      "text/plain": [
       "array([10,  3,  1,  8,  3])"
      ]
     },
     "execution_count": 28,
     "metadata": {},
     "output_type": "execute_result"
    }
   ],
   "source": [
    "#Random fuction\n",
    "arr = np.random.randint(1,11,5)\n",
    "arr"
   ]
  },
  {
   "cell_type": "markdown",
   "id": "92b52962-7ab8-4a9e-9ffe-550cef27ae2b",
   "metadata": {
    "panel-layout": {
     "height": 51.1363639831543,
     "visible": true,
     "width": 100
    }
   },
   "source": [
    "Array Attributes"
   ]
  },
  {
   "cell_type": "code",
   "execution_count": 29,
   "id": "add4d352-1c54-49b7-8098-71a00f813b26",
   "metadata": {
    "panel-layout": {
     "height": 61.409095764160156,
     "visible": true,
     "width": 100
    }
   },
   "outputs": [
    {
     "data": {
      "text/plain": [
       "array([[1, 2, 3],\n",
       "       [4, 5, 6],\n",
       "       [7, 8, 9]])"
      ]
     },
     "execution_count": 29,
     "metadata": {},
     "output_type": "execute_result"
    }
   ],
   "source": [
    "arr = np.array([[1,2,3],[4,5,6],[7,8,9]])\n",
    "arr"
   ]
  },
  {
   "cell_type": "code",
   "execution_count": 30,
   "id": "457565bf-a8fc-4cc4-a262-929a7e4856f3",
   "metadata": {
    "panel-layout": {
     "height": 27.136363983154297,
     "visible": true,
     "width": 100
    }
   },
   "outputs": [
    {
     "data": {
      "text/plain": [
       "9"
      ]
     },
     "execution_count": 30,
     "metadata": {},
     "output_type": "execute_result"
    }
   ],
   "source": [
    "arr.size"
   ]
  },
  {
   "cell_type": "code",
   "execution_count": 31,
   "id": "f3741714-b8a2-4a1d-8785-70d51fbb49e6",
   "metadata": {
    "panel-layout": {
     "height": 27.136363983154297,
     "visible": true,
     "width": 100
    }
   },
   "outputs": [
    {
     "data": {
      "text/plain": [
       "(3, 3)"
      ]
     },
     "execution_count": 31,
     "metadata": {},
     "output_type": "execute_result"
    }
   ],
   "source": [
    "arr.shape"
   ]
  },
  {
   "cell_type": "code",
   "execution_count": 33,
   "id": "66c2e4f9-3301-4403-ae04-fc448b46960f",
   "metadata": {
    "panel-layout": {
     "height": 27.136363983154297,
     "visible": true,
     "width": 100
    }
   },
   "outputs": [
    {
     "data": {
      "text/plain": [
       "dtype('int32')"
      ]
     },
     "execution_count": 33,
     "metadata": {},
     "output_type": "execute_result"
    }
   ],
   "source": [
    "arr.dtype"
   ]
  },
  {
   "cell_type": "markdown",
   "id": "daae1977-052f-4e66-9112-7db5b74506f0",
   "metadata": {
    "panel-layout": {
     "height": 51.1363639831543,
     "visible": true,
     "width": 100
    }
   },
   "source": [
    "Array Methods"
   ]
  },
  {
   "cell_type": "code",
   "execution_count": 34,
   "id": "95f069a6-b75d-457a-b565-01107b2779fd",
   "metadata": {
    "panel-layout": {
     "height": 27.136363983154297,
     "visible": true,
     "width": 100
    }
   },
   "outputs": [
    {
     "data": {
      "text/plain": [
       "1"
      ]
     },
     "execution_count": 34,
     "metadata": {},
     "output_type": "execute_result"
    }
   ],
   "source": [
    "arr.min()"
   ]
  },
  {
   "cell_type": "code",
   "execution_count": 35,
   "id": "ce745e69-76ff-48d9-ab2e-3580030da130",
   "metadata": {
    "panel-layout": {
     "height": 27.136363983154297,
     "visible": true,
     "width": 100
    }
   },
   "outputs": [
    {
     "data": {
      "text/plain": [
       "9"
      ]
     },
     "execution_count": 35,
     "metadata": {},
     "output_type": "execute_result"
    }
   ],
   "source": [
    "arr.max()"
   ]
  },
  {
   "cell_type": "code",
   "execution_count": 36,
   "id": "0a93340d-02dc-44f6-91cf-675dd6d16716",
   "metadata": {
    "panel-layout": {
     "height": 27.136363983154297,
     "visible": true,
     "width": 100
    }
   },
   "outputs": [
    {
     "data": {
      "text/plain": [
       "5.0"
      ]
     },
     "execution_count": 36,
     "metadata": {},
     "output_type": "execute_result"
    }
   ],
   "source": [
    "arr.mean()"
   ]
  },
  {
   "cell_type": "code",
   "execution_count": 37,
   "id": "c2dcccea-c7e3-4d54-ab91-116e963d5e67",
   "metadata": {
    "panel-layout": {
     "height": 44.272727966308594,
     "visible": true,
     "width": 100
    }
   },
   "outputs": [
    {
     "data": {
      "text/plain": [
       "array([ 1,  2,  3,  4,  5,  6,  7,  8,  9, 10, 11, 12, 13, 14, 15, 16, 17,\n",
       "       18, 19, 20, 21, 22, 23, 24, 25, 26, 27, 28, 29, 30])"
      ]
     },
     "execution_count": 37,
     "metadata": {},
     "output_type": "execute_result"
    }
   ],
   "source": [
    "arr = np.arange(1,31)\n",
    "arr"
   ]
  },
  {
   "cell_type": "code",
   "execution_count": 39,
   "id": "3b599be3-45df-4d8e-878d-ecd3350d53fd",
   "metadata": {
    "panel-layout": {
     "height": 112.81818389892578,
     "visible": true,
     "width": 100
    }
   },
   "outputs": [
    {
     "data": {
      "text/plain": [
       "array([[ 1,  2,  3,  4,  5],\n",
       "       [ 6,  7,  8,  9, 10],\n",
       "       [11, 12, 13, 14, 15],\n",
       "       [16, 17, 18, 19, 20],\n",
       "       [21, 22, 23, 24, 25],\n",
       "       [26, 27, 28, 29, 30]])"
      ]
     },
     "execution_count": 39,
     "metadata": {},
     "output_type": "execute_result"
    }
   ],
   "source": [
    "arr = arr.reshape(6,5)\n",
    "arr"
   ]
  },
  {
   "cell_type": "code",
   "execution_count": 41,
   "id": "9a582d95-353a-4da3-8ba3-197ed7dafeab",
   "metadata": {
    "panel-layout": {
     "height": 27.136363983154297,
     "visible": true,
     "width": 100
    }
   },
   "outputs": [
    {
     "data": {
      "text/plain": [
       "array([1, 2, 3, 4, 5, 6, 7, 8, 9])"
      ]
     },
     "execution_count": 41,
     "metadata": {},
     "output_type": "execute_result"
    }
   ],
   "source": [
    "arr = np.arange(1,10)\n",
    "arr"
   ]
  },
  {
   "cell_type": "code",
   "execution_count": 43,
   "id": "c8a17dbd-5a2e-4909-9dfd-cf2d9fcda2d2",
   "metadata": {
    "panel-layout": {
     "height": 27.136363983154297,
     "visible": true,
     "width": 100
    }
   },
   "outputs": [
    {
     "data": {
      "text/plain": [
       "4"
      ]
     },
     "execution_count": 43,
     "metadata": {},
     "output_type": "execute_result"
    }
   ],
   "source": [
    "arr[3]"
   ]
  },
  {
   "cell_type": "code",
   "execution_count": 45,
   "id": "fab61ad1-0445-4a7c-bb45-93441abb2e36",
   "metadata": {
    "panel-layout": {
     "height": 27.136363983154297,
     "visible": true,
     "width": 100
    }
   },
   "outputs": [
    {
     "data": {
      "text/plain": [
       "array([2, 3, 4, 5])"
      ]
     },
     "execution_count": 45,
     "metadata": {},
     "output_type": "execute_result"
    }
   ],
   "source": [
    "arr[1:5]"
   ]
  },
  {
   "cell_type": "code",
   "execution_count": 50,
   "id": "8786510a-326e-4042-9f88-09f0a74ab43d",
   "metadata": {
    "panel-layout": {
     "height": 61.409095764160156,
     "visible": true,
     "width": 100
    }
   },
   "outputs": [
    {
     "data": {
      "text/plain": [
       "array([[1, 2, 3],\n",
       "       [4, 5, 6],\n",
       "       [7, 8, 9]])"
      ]
     },
     "execution_count": 50,
     "metadata": {},
     "output_type": "execute_result"
    }
   ],
   "source": [
    "arr = arr.reshape(3,3)\n",
    "arr"
   ]
  },
  {
   "cell_type": "code",
   "execution_count": 51,
   "id": "f298991f-d591-4a89-945d-679d81b80cb1",
   "metadata": {
    "panel-layout": {
     "height": 27.136363983154297,
     "visible": true,
     "width": 100
    }
   },
   "outputs": [
    {
     "data": {
      "text/plain": [
       "array([1, 2, 3])"
      ]
     },
     "execution_count": 51,
     "metadata": {},
     "output_type": "execute_result"
    }
   ],
   "source": [
    "arr[0]"
   ]
  },
  {
   "cell_type": "code",
   "execution_count": 52,
   "id": "62abc12c-a108-4019-99d4-a2fdfe726bd9",
   "metadata": {
    "panel-layout": {
     "height": 27.136363983154297,
     "visible": true,
     "width": 100
    }
   },
   "outputs": [
    {
     "data": {
      "text/plain": [
       "2"
      ]
     },
     "execution_count": 52,
     "metadata": {},
     "output_type": "execute_result"
    }
   ],
   "source": [
    "arr[0][1]"
   ]
  },
  {
   "cell_type": "code",
   "execution_count": 55,
   "id": "e018336e-449a-402a-ae0b-7e0cbec3c839",
   "metadata": {
    "panel-layout": {
     "height": 112.81818389892578,
     "visible": true,
     "width": 100
    }
   },
   "outputs": [
    {
     "data": {
      "text/plain": [
       "array([[ 1,  2,  3,  4,  5],\n",
       "       [ 6,  7,  8,  9, 10],\n",
       "       [11, 12, 13, 14, 15],\n",
       "       [16, 17, 18, 19, 20],\n",
       "       [21, 22, 23, 24, 25],\n",
       "       [26, 27, 28, 29, 30]])"
      ]
     },
     "execution_count": 55,
     "metadata": {},
     "output_type": "execute_result"
    }
   ],
   "source": [
    "arr = np.arange(1,31)\n",
    "arr = arr.reshape(6,5)\n",
    "arr"
   ]
  },
  {
   "cell_type": "code",
   "execution_count": 57,
   "id": "b4d92134-e960-4c1c-a04f-d37a14e725ca",
   "metadata": {
    "panel-layout": {
     "height": 61.409095764160156,
     "visible": true,
     "width": 100
    }
   },
   "outputs": [
    {
     "data": {
      "text/plain": [
       "array([[19, 20],\n",
       "       [24, 25],\n",
       "       [29, 30]])"
      ]
     },
     "execution_count": 57,
     "metadata": {},
     "output_type": "execute_result"
    }
   ],
   "source": [
    "arr[3:6,3:5]"
   ]
  },
  {
   "cell_type": "code",
   "execution_count": 58,
   "id": "cce6ce89-621a-46da-b974-4d93232c9f70",
   "metadata": {
    "panel-layout": {
     "height": 27.136363983154297,
     "visible": true,
     "width": 100
    }
   },
   "outputs": [
    {
     "data": {
      "text/plain": [
       "array([ 3,  8, 13, 18, 23, 28])"
      ]
     },
     "execution_count": 58,
     "metadata": {},
     "output_type": "execute_result"
    }
   ],
   "source": [
    "arr[:,2]"
   ]
  },
  {
   "cell_type": "code",
   "execution_count": null,
   "id": "8087aa36-2dd9-4654-b7dc-4adbafc082d3",
   "metadata": {},
   "outputs": [],
   "source": []
  },
  {
   "cell_type": "code",
   "execution_count": null,
   "id": "000b7d77-6c4e-4c9e-8d18-756583baf28e",
   "metadata": {},
   "outputs": [],
   "source": []
  },
  {
   "cell_type": "code",
   "execution_count": null,
   "id": "749cce32-3788-4709-a69e-807de2b31937",
   "metadata": {},
   "outputs": [],
   "source": []
  },
  {
   "cell_type": "code",
   "execution_count": null,
   "id": "ba706050-2f2f-43c7-abfc-3cde9707d963",
   "metadata": {},
   "outputs": [],
   "source": []
  },
  {
   "cell_type": "code",
   "execution_count": null,
   "id": "257608de-02e7-4ec4-9244-d084b59cb1df",
   "metadata": {},
   "outputs": [],
   "source": []
  },
  {
   "cell_type": "code",
   "execution_count": null,
   "id": "0346e7de-f58f-4dfd-8294-fe028bb64c2e",
   "metadata": {},
   "outputs": [],
   "source": []
  },
  {
   "cell_type": "code",
   "execution_count": null,
   "id": "35ffcf7d-c572-47fa-af5c-d8627015711e",
   "metadata": {},
   "outputs": [],
   "source": []
  },
  {
   "cell_type": "code",
   "execution_count": null,
   "id": "3bb92793-7f26-46ff-a475-05feb9556a06",
   "metadata": {},
   "outputs": [],
   "source": []
  },
  {
   "cell_type": "code",
   "execution_count": null,
   "id": "07249f16-22a1-487c-9899-c7da19f7b39d",
   "metadata": {},
   "outputs": [],
   "source": []
  },
  {
   "cell_type": "code",
   "execution_count": null,
   "id": "8dcf0aca-b8b9-41da-a62d-b380e2b26bf3",
   "metadata": {},
   "outputs": [],
   "source": []
  },
  {
   "cell_type": "code",
   "execution_count": null,
   "id": "ea5f5c25-e7d4-433a-921e-1329651a17ba",
   "metadata": {},
   "outputs": [],
   "source": []
  },
  {
   "cell_type": "code",
   "execution_count": null,
   "id": "a4d303af-fb89-4bd0-a91d-382f5688e8e0",
   "metadata": {},
   "outputs": [],
   "source": []
  },
  {
   "cell_type": "markdown",
   "id": "5b8e6dea-e66b-41c3-a448-d838834bff95",
   "metadata": {
    "panel-layout": {
     "height": 60.602272033691406,
     "visible": true,
     "width": 100
    }
   },
   "source": [
    "# "
   ]
  },
  {
   "cell_type": "markdown",
   "id": "80de1bdd-1f22-4fe0-ac49-c49562340c21",
   "metadata": {
    "panel-layout": {
     "height": 10,
     "visible": true,
     "width": 100
    }
   },
   "source": []
  }
 ],
 "metadata": {
  "kernelspec": {
   "display_name": "Python [conda env:base] *",
   "language": "python",
   "name": "conda-base-py"
  },
  "language_info": {
   "codemirror_mode": {
    "name": "ipython",
    "version": 3
   },
   "file_extension": ".py",
   "mimetype": "text/x-python",
   "name": "python",
   "nbconvert_exporter": "python",
   "pygments_lexer": "ipython3",
   "version": "3.12.7"
  },
  "panel-cell-order": [
   "12969ad0-2daf-4d2f-a30e-54983515ba9f",
   "6cf9dd48-0a5e-4f61-878b-8cd240a1121a",
   "5db57910-bb6f-40ed-97e4-0f6c0b434218",
   "e695352e-aa5e-4e9a-9f2d-f45dbf8dd391",
   "c60872bc-899d-48ba-aafd-d31cbff27050",
   "8f30d299-b2f7-4039-99de-8ef94ff3383b",
   "92b52962-7ab8-4a9e-9ffe-550cef27ae2b",
   "add4d352-1c54-49b7-8098-71a00f813b26",
   "457565bf-a8fc-4cc4-a262-929a7e4856f3",
   "f3741714-b8a2-4a1d-8785-70d51fbb49e6",
   "66c2e4f9-3301-4403-ae04-fc448b46960f",
   "daae1977-052f-4e66-9112-7db5b74506f0",
   "95f069a6-b75d-457a-b565-01107b2779fd",
   "ce745e69-76ff-48d9-ab2e-3580030da130",
   "0a93340d-02dc-44f6-91cf-675dd6d16716",
   "c2dcccea-c7e3-4d54-ab91-116e963d5e67",
   "3b599be3-45df-4d8e-878d-ecd3350d53fd",
   "9a582d95-353a-4da3-8ba3-197ed7dafeab",
   "c8a17dbd-5a2e-4909-9dfd-cf2d9fcda2d2",
   "fab61ad1-0445-4a7c-bb45-93441abb2e36",
   "8786510a-326e-4042-9f88-09f0a74ab43d",
   "f298991f-d591-4a89-945d-679d81b80cb1",
   "62abc12c-a108-4019-99d4-a2fdfe726bd9",
   "e018336e-449a-402a-ae0b-7e0cbec3c839",
   "b4d92134-e960-4c1c-a04f-d37a14e725ca",
   "cce6ce89-621a-46da-b974-4d93232c9f70",
   "5b8e6dea-e66b-41c3-a448-d838834bff95",
   "80de1bdd-1f22-4fe0-ac49-c49562340c21"
  ]
 },
 "nbformat": 4,
 "nbformat_minor": 5
}
